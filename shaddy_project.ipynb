{
  "nbformat": 4,
  "nbformat_minor": 0,
  "metadata": {
    "colab": {
      "provenance": [],
      "toc_visible": true,
      "authorship_tag": "ABX9TyMpH+9CnYgwv5EkbFGdGpAX",
      "include_colab_link": true
    },
    "kernelspec": {
      "name": "python3",
      "display_name": "Python 3"
    },
    "language_info": {
      "name": "python"
    }
  },
  "cells": [
    {
      "cell_type": "markdown",
      "metadata": {
        "id": "view-in-github",
        "colab_type": "text"
      },
      "source": [
        "<a href=\"https://colab.research.google.com/github/Mutisya-spec/Data_science1/blob/main/shaddy_project.ipynb\" target=\"_parent\"><img src=\"https://colab.research.google.com/assets/colab-badge.svg\" alt=\"Open In Colab\"/></a>"
      ]
    },
    {
      "cell_type": "markdown",
      "source": [],
      "metadata": {
        "id": "ayilIVmVIJQ-"
      }
    },
    {
      "cell_type": "code",
      "execution_count": null,
      "metadata": {
        "colab": {
          "base_uri": "https://localhost:8080/"
        },
        "id": "ZfNc9rn0aRwT",
        "outputId": "081c314c-fcd1-4210-8153-269fe2a6a1f1"
      },
      "outputs": [
        {
          "output_type": "stream",
          "name": "stdout",
          "text": [
            "{'myrecipe': 'chapati'}\n",
            "({'myingredient': 'wheat flour'}, {'cooking oil'}, {'salt'}, {'water'})\n",
            "{'mycookingtime': 'one hour'}\n"
          ]
        }
      ],
      "source": [
        "myrecipe=(\"chapi\")\n",
        "myingredient=(\"wheat flour\",\"cooking oil\",\"salt\",\"water\")\n",
        "mycookingtime=(\"one hour\")\n",
        "x={\"myrecipe\":\"chapati\"}\n",
        "y={\"myingredient\":\"wheat flour\"},{\"cooking oil\"},{\"salt\"},{\"water\"}\n",
        "z={\"mycookingtime\":\"one hour\"}\n",
        "print(x)\n",
        "print(y)\n",
        "print(z)"
      ]
    },
    {
      "cell_type": "code",
      "source": [
        "mybreakfast=(\"chapati\",\"tea\",\"eggs\")\n",
        "mylunch=(\"rice\",\"meat\")\n",
        "mysupper=(\"ugali\",\"kienyeji\")\n",
        "mybreakfast=(\"chapati\",\"tea\",\"eggs\")\n",
        "mylunch=(\"rice\",\"meat\")\n",
        "musupper=(\"ugali\",\"kienyeji\")\n",
        "print(mybreakfast)\n",
        "print(mylunch)\n",
        "print(mysupper)\n"
      ],
      "metadata": {
        "colab": {
          "base_uri": "https://localhost:8080/"
        },
        "id": "G4fdttTMaS-c",
        "outputId": "9ce7251c-7d60-4ca2-9bf2-7a20c544988c"
      },
      "execution_count": null,
      "outputs": [
        {
          "output_type": "stream",
          "name": "stdout",
          "text": [
            "('chapati', 'tea', 'eggs')\n",
            "('rice', 'meat')\n",
            "('ugali', 'kienyeji')\n"
          ]
        }
      ]
    },
    {
      "cell_type": "code",
      "source": [],
      "metadata": {
        "id": "xX4FkhWPaTgF"
      },
      "execution_count": null,
      "outputs": []
    }
  ]
}